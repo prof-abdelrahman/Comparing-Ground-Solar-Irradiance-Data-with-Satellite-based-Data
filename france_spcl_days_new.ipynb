{
 "cells": [
  {
   "cell_type": "code",
   "execution_count": null,
   "outputs": [],
   "source": [
    "from datetime import datetime\n",
    "import pvlib"
   ],
   "metadata": {
    "collapsed": false
   }
  },
  {
   "cell_type": "markdown",
   "source": [
    "Code\n",
    "\n",
    "# datetime(year, month, day, hour, minute, second, microsecond)\n",
    "start = datetime(2020, 6, 21, 0, 0)\n",
    "end = datetime(2020, 12, 21, 23, 59)\n",
    "username=\"bsrnftp\"\n",
    "password=\"bsrn1\"\n",
    "\n",
    "france, metadata=pvlib.iotools.get_bsrn(\"pal\", start, end, username, password, logical_records=('0100',), save_path=\"/Users/rijass/Desktop/special_days/France/\")\n",
    "print(france.columns)"
   ],
   "metadata": {
    "collapsed": false
   }
  },
  {
   "cell_type": "markdown",
   "source": [
    "DAY 1 2020 01 2"
   ],
   "metadata": {
    "collapsed": false
   }
  },
  {
   "cell_type": "code",
   "execution_count": 5,
   "outputs": [
    {
     "name": "stdout",
     "output_type": "stream",
     "text": [
      "Index(['ghi', 'ghi_std', 'ghi_min', 'ghi_max', 'dni', 'dni_std', 'dni_min',\n",
      "       'dni_max', 'dhi', 'dhi_std', 'dhi_min', 'dhi_max', 'lwd', 'lwd_std',\n",
      "       'lwd_min', 'lwd_max', 'temp_air', 'relative_humidity', 'pressure'],\n",
      "      dtype='object')\n"
     ]
    }
   ],
   "source": [
    "from datetime import datetime\n",
    "import pvlib\n",
    "\n",
    "start = datetime(2020, 1, 27, 0, 0)\n",
    "end = datetime(2020, 1, 27, 23, 59)\n",
    "username=\"bsrnftp\"\n",
    "password=\"bsrn1\"\n",
    "\n",
    "france, metadata=pvlib.iotools.get_bsrn(\"pal\", start, end, username, password, logical_records=('0100',), save_path=\"/Users/rijass/Desktop/FPS/special_days/France/\")\n",
    "print(france.columns)\n",
    "\n",
    "import pandas as pd\n",
    "\n",
    "# Assuming you already have the 'france' DataFrame with the required data\n",
    "\n",
    "# Specify the start and end dates\n",
    "start_date = '2020-01-27 00:00:00+00:00'\n",
    "end_date = '2020-01-27 23:59:59+00:00'\n",
    "\n",
    "# Filter the 'france' DataFrame based on the date range\n",
    "france_spcl_day1 = france[(france.index >= start_date) & (france.index <= end_date)].copy()\n",
    "\n",
    "# Save the filtered DataFrame to a new file\n",
    "france_spcl_day1.to_csv('france_spcl_day1.csv')\n",
    "\n",
    "\n",
    "#france_day1=pd.DataFrame()  #created a panda file to store it"
   ],
   "metadata": {
    "collapsed": false,
    "ExecuteTime": {
     "end_time": "2023-05-20T21:14:34.701773Z",
     "start_time": "2023-05-20T21:14:32.948743Z"
    }
   }
  },
  {
   "cell_type": "markdown",
   "source": [
    "DAY 2 2020 02 05"
   ],
   "metadata": {
    "collapsed": false
   }
  },
  {
   "cell_type": "code",
   "execution_count": 6,
   "outputs": [
    {
     "name": "stdout",
     "output_type": "stream",
     "text": [
      "Index(['ghi', 'ghi_std', 'ghi_min', 'ghi_max', 'dni', 'dni_std', 'dni_min',\n",
      "       'dni_max', 'dhi', 'dhi_std', 'dhi_min', 'dhi_max', 'lwd', 'lwd_std',\n",
      "       'lwd_min', 'lwd_max', 'temp_air', 'relative_humidity', 'pressure'],\n",
      "      dtype='object')\n"
     ]
    }
   ],
   "source": [
    "start = datetime(2020, 2, 5, 0, 0)\n",
    "end = datetime(2020, 2, 5, 23, 59)\n",
    "username=\"bsrnftp\"\n",
    "password=\"bsrn1\"\n",
    "\n",
    "france, metadata=pvlib.iotools.get_bsrn(\"pal\", start, end, username, password, logical_records=('0100',), save_path=\"/Users/rijass/Desktop/FPS/special_days/France/\")\n",
    "print(france.columns)\n",
    "\n",
    "import pandas as pd\n",
    "\n",
    "# Assuming you already have the 'france' DataFrame with the required data\n",
    "\n",
    "# Specify the start and end dates\n",
    "start_date = '2020-02-05 00:00:00+00:00'\n",
    "end_date = '2020-02-05 23:59:59+00:00'\n",
    "\n",
    "# Filter the 'france' DataFrame based on the date range\n",
    "france_spcl_day2 = france[(france.index >= start_date) & (france.index <= end_date)].copy()\n",
    "\n",
    "# Save the filtered DataFrame to a new file\n",
    "france_spcl_day2.to_csv('france_spcl_day2.csv')\n",
    "\n",
    "\n",
    "#france_day1=pd.DataFrame()  #created a panda file to store it"
   ],
   "metadata": {
    "collapsed": false,
    "ExecuteTime": {
     "end_time": "2023-05-20T21:16:08.478057Z",
     "start_time": "2023-05-20T21:16:06.723999Z"
    }
   }
  },
  {
   "cell_type": "markdown",
   "source": [
    "Day 3 2020 02 18"
   ],
   "metadata": {
    "collapsed": false
   }
  },
  {
   "cell_type": "code",
   "execution_count": 7,
   "outputs": [
    {
     "name": "stdout",
     "output_type": "stream",
     "text": [
      "Index(['ghi', 'ghi_std', 'ghi_min', 'ghi_max', 'dni', 'dni_std', 'dni_min',\n",
      "       'dni_max', 'dhi', 'dhi_std', 'dhi_min', 'dhi_max', 'lwd', 'lwd_std',\n",
      "       'lwd_min', 'lwd_max', 'temp_air', 'relative_humidity', 'pressure'],\n",
      "      dtype='object')\n"
     ]
    }
   ],
   "source": [
    "start = datetime(2020, 2, 18, 0, 0)\n",
    "end = datetime(2020, 2, 18, 23, 59)\n",
    "username=\"bsrnftp\"\n",
    "password=\"bsrn1\"\n",
    "\n",
    "france, metadata=pvlib.iotools.get_bsrn(\"pal\", start, end, username, password, logical_records=('0100',), save_path=\"/Users/rijass/Desktop/FPS/special_days/France/\")\n",
    "print(france.columns)\n",
    "\n",
    "import pandas as pd\n",
    "\n",
    "# Assuming you already have the 'france' DataFrame with the required data\n",
    "\n",
    "# Specify the start and end dates\n",
    "start_date = '2020-02-18 00:00:00+00:00'\n",
    "end_date = '2020-02-18 23:59:59+00:00'\n",
    "\n",
    "# Filter the 'france' DataFrame based on the date range\n",
    "france_spcl_day3 = france[(france.index >= start_date) & (france.index <= end_date)].copy()\n",
    "\n",
    "# Save the filtered DataFrame to a new file\n",
    "france_spcl_day3.to_csv('france_spcl_day3.csv')\n",
    "\n",
    "\n",
    "#france_day1=pd.DataFrame()  #created a panda file to store it"
   ],
   "metadata": {
    "collapsed": false,
    "ExecuteTime": {
     "end_time": "2023-05-20T21:17:20.672918Z",
     "start_time": "2023-05-20T21:17:19.070162Z"
    }
   }
  },
  {
   "cell_type": "markdown",
   "source": [
    "Day 4 2020 04 01"
   ],
   "metadata": {
    "collapsed": false
   }
  },
  {
   "cell_type": "code",
   "execution_count": 9,
   "outputs": [
    {
     "name": "stdout",
     "output_type": "stream",
     "text": [
      "Index(['ghi', 'ghi_std', 'ghi_min', 'ghi_max', 'dni', 'dni_std', 'dni_min',\n",
      "       'dni_max', 'dhi', 'dhi_std', 'dhi_min', 'dhi_max', 'lwd', 'lwd_std',\n",
      "       'lwd_min', 'lwd_max', 'temp_air', 'relative_humidity', 'pressure'],\n",
      "      dtype='object')\n"
     ]
    }
   ],
   "source": [
    "start = datetime(2020, 4, 1, 0, 0)\n",
    "end = datetime(2020, 4, 1, 23, 59)\n",
    "username=\"bsrnftp\"\n",
    "password=\"bsrn1\"\n",
    "\n",
    "france, metadata=pvlib.iotools.get_bsrn(\"pal\", start, end, username, password, logical_records=('0100',), save_path=\"/Users/rijass/Desktop/FPS/special_days/France/\")\n",
    "print(france.columns)\n",
    "\n",
    "import pandas as pd\n",
    "\n",
    "# Assuming you already have the 'france' DataFrame with the required data\n",
    "\n",
    "# Specify the start and end dates\n",
    "start_date = '2020-04-01 00:00:00+00:00'\n",
    "end_date = '2020-04-01 23:59:59+00:00'\n",
    "\n",
    "# Filter the 'france' DataFrame based on the date range\n",
    "france_spcl_day4 = france[(france.index >= start_date) & (france.index <= end_date)].copy()\n",
    "\n",
    "# Save the filtered DataFrame to a new file\n",
    "france_spcl_day4.to_csv('france_spcl_day4.csv')\n",
    "\n",
    "\n",
    "#france_day1=pd.DataFrame()  #created a panda file to store it"
   ],
   "metadata": {
    "collapsed": false,
    "ExecuteTime": {
     "end_time": "2023-05-20T21:19:23.751979Z",
     "start_time": "2023-05-20T21:19:21.992435Z"
    }
   }
  },
  {
   "cell_type": "markdown",
   "source": [
    "Day 5 2020 04 13"
   ],
   "metadata": {
    "collapsed": false
   }
  },
  {
   "cell_type": "code",
   "execution_count": 10,
   "outputs": [
    {
     "name": "stdout",
     "output_type": "stream",
     "text": [
      "Index(['ghi', 'ghi_std', 'ghi_min', 'ghi_max', 'dni', 'dni_std', 'dni_min',\n",
      "       'dni_max', 'dhi', 'dhi_std', 'dhi_min', 'dhi_max', 'lwd', 'lwd_std',\n",
      "       'lwd_min', 'lwd_max', 'temp_air', 'relative_humidity', 'pressure'],\n",
      "      dtype='object')\n"
     ]
    }
   ],
   "source": [
    "start = datetime(2020, 4, 13, 0, 0)\n",
    "end = datetime(2020, 4, 13, 23, 59)\n",
    "username=\"bsrnftp\"\n",
    "password=\"bsrn1\"\n",
    "\n",
    "france, metadata=pvlib.iotools.get_bsrn(\"pal\", start, end, username, password, logical_records=('0100',), save_path=\"/Users/rijass/Desktop/FPS/special_days/France/\")\n",
    "print(france.columns)\n",
    "\n",
    "import pandas as pd\n",
    "\n",
    "# Assuming you already have the 'france' DataFrame with the required data\n",
    "\n",
    "# Specify the start and end dates\n",
    "start_date = '2020-04-13 00:00:00+00:00'\n",
    "end_date = '2020-04-13 23:59:59+00:00'\n",
    "\n",
    "# Filter the 'france' DataFrame based on the date range\n",
    "france_spcl_day5 = france[(france.index >= start_date) & (france.index <= end_date)].copy()\n",
    "\n",
    "# Save the filtered DataFrame to a new file\n",
    "france_spcl_day5.to_csv('france_spcl_day5.csv')\n",
    "\n",
    "\n",
    "#france_day1=pd.DataFrame()  #created a panda file to store it"
   ],
   "metadata": {
    "collapsed": false,
    "ExecuteTime": {
     "end_time": "2023-05-20T21:23:49.987928Z",
     "start_time": "2023-05-20T21:23:48.011215Z"
    }
   }
  },
  {
   "cell_type": "markdown",
   "source": [
    "Day 6 2020 05 25"
   ],
   "metadata": {
    "collapsed": false
   }
  },
  {
   "cell_type": "code",
   "execution_count": 11,
   "outputs": [
    {
     "name": "stdout",
     "output_type": "stream",
     "text": [
      "Index(['ghi', 'ghi_std', 'ghi_min', 'ghi_max', 'dni', 'dni_std', 'dni_min',\n",
      "       'dni_max', 'dhi', 'dhi_std', 'dhi_min', 'dhi_max', 'lwd', 'lwd_std',\n",
      "       'lwd_min', 'lwd_max', 'temp_air', 'relative_humidity', 'pressure'],\n",
      "      dtype='object')\n"
     ]
    }
   ],
   "source": [
    "start = datetime(2020, 5, 25, 0, 0)\n",
    "end = datetime(2020, 5, 25, 23, 59)\n",
    "username=\"bsrnftp\"\n",
    "password=\"bsrn1\"\n",
    "\n",
    "france, metadata=pvlib.iotools.get_bsrn(\"pal\", start, end, username, password, logical_records=('0100',), save_path=\"/Users/rijass/Desktop/FPS/special_days/France/\")\n",
    "print(france.columns)\n",
    "\n",
    "import pandas as pd\n",
    "\n",
    "# Assuming you already have the 'france' DataFrame with the required data\n",
    "\n",
    "# Specify the start and end dates\n",
    "start_date = '2020-05-25 00:00:00+00:00'\n",
    "end_date = '2020-05-25 23:59:59+00:00'\n",
    "\n",
    "# Filter the 'france' DataFrame based on the date range\n",
    "france_spcl_day6 = france[(france.index >= start_date) & (france.index <= end_date)].copy()\n",
    "\n",
    "# Save the filtered DataFrame to a new file\n",
    "france_spcl_day6.to_csv('france_spcl_day6.csv')\n",
    "\n",
    "\n",
    "#france_day1=pd.DataFrame()  #created a panda file to store it"
   ],
   "metadata": {
    "collapsed": false,
    "ExecuteTime": {
     "end_time": "2023-05-20T21:24:37.633911Z",
     "start_time": "2023-05-20T21:24:35.726512Z"
    }
   }
  },
  {
   "cell_type": "markdown",
   "source": [
    "Day 7 2020 07 09"
   ],
   "metadata": {
    "collapsed": false
   }
  },
  {
   "cell_type": "code",
   "execution_count": 13,
   "outputs": [
    {
     "name": "stdout",
     "output_type": "stream",
     "text": [
      "Index(['ghi', 'ghi_std', 'ghi_min', 'ghi_max', 'dni', 'dni_std', 'dni_min',\n",
      "       'dni_max', 'dhi', 'dhi_std', 'dhi_min', 'dhi_max', 'lwd', 'lwd_std',\n",
      "       'lwd_min', 'lwd_max', 'temp_air', 'relative_humidity', 'pressure'],\n",
      "      dtype='object')\n"
     ]
    }
   ],
   "source": [
    "start = datetime(2020, 7, 9, 0, 0)\n",
    "end = datetime(2020, 7, 9, 23, 59)\n",
    "username=\"bsrnftp\"\n",
    "password=\"bsrn1\"\n",
    "\n",
    "france, metadata=pvlib.iotools.get_bsrn(\"pal\", start, end, username, password, logical_records=('0100',), save_path=\"/Users/rijass/Desktop/FPS/special_days/France/\")\n",
    "print(france.columns)\n",
    "\n",
    "import pandas as pd\n",
    "\n",
    "# Assuming you already have the 'france' DataFrame with the required data\n",
    "\n",
    "# Specify the start and end dates\n",
    "start_date = '2020-07-09 00:00:00+00:00'\n",
    "end_date = '2020-07-09 23:59:59+00:00'\n",
    "\n",
    "# Filter the 'france' DataFrame based on the date range\n",
    "france_spcl_day7 = france[(france.index >= start_date) & (france.index <= end_date)].copy()\n",
    "\n",
    "# Save the filtered DataFrame to a new file\n",
    "france_spcl_day7.to_csv('france_spcl_day7.csv')\n",
    "\n",
    "#france_day1=pd.DataFrame()  #created a panda file to store it"
   ],
   "metadata": {
    "collapsed": false,
    "ExecuteTime": {
     "end_time": "2023-05-20T21:26:43.533819Z",
     "start_time": "2023-05-20T21:26:41.648308Z"
    }
   }
  },
  {
   "cell_type": "markdown",
   "source": [
    "Day 8 2020 07 20"
   ],
   "metadata": {
    "collapsed": false
   }
  },
  {
   "cell_type": "code",
   "execution_count": 14,
   "outputs": [
    {
     "name": "stdout",
     "output_type": "stream",
     "text": [
      "Index(['ghi', 'ghi_std', 'ghi_min', 'ghi_max', 'dni', 'dni_std', 'dni_min',\n",
      "       'dni_max', 'dhi', 'dhi_std', 'dhi_min', 'dhi_max', 'lwd', 'lwd_std',\n",
      "       'lwd_min', 'lwd_max', 'temp_air', 'relative_humidity', 'pressure'],\n",
      "      dtype='object')\n"
     ]
    }
   ],
   "source": [
    "start = datetime(2020, 7, 20, 0, 0)\n",
    "end = datetime(2020, 7, 20, 23, 59)\n",
    "username=\"bsrnftp\"\n",
    "password=\"bsrn1\"\n",
    "\n",
    "france, metadata=pvlib.iotools.get_bsrn(\"pal\", start, end, username, password, logical_records=('0100',), save_path=\"/Users/rijass/Desktop/FPS/special_days/France/\")\n",
    "print(france.columns)\n",
    "\n",
    "import pandas as pd\n",
    "\n",
    "# Assuming you already have the 'france' DataFrame with the required data\n",
    "\n",
    "# Specify the start and end dates\n",
    "start_date = '2020-07-20 00:00:00+00:00'\n",
    "end_date = '2020-07-20 23:59:59+00:00'\n",
    "\n",
    "# Filter the 'france' DataFrame based on the date range\n",
    "france_spcl_day8 = france[(france.index >= start_date) & (france.index <= end_date)].copy()\n",
    "\n",
    "# Save the filtered DataFrame to a new file\n",
    "france_spcl_day8.to_csv('france_spcl_day8.csv')\n",
    "\n",
    "\n",
    "#france_day1=pd.DataFrame()  #created a panda file to store it"
   ],
   "metadata": {
    "collapsed": false,
    "ExecuteTime": {
     "end_time": "2023-05-20T21:27:40.529531Z",
     "start_time": "2023-05-20T21:27:38.074362Z"
    }
   }
  },
  {
   "cell_type": "markdown",
   "source": [
    "Day 9 2020 08 10"
   ],
   "metadata": {
    "collapsed": false
   }
  },
  {
   "cell_type": "code",
   "execution_count": 15,
   "outputs": [
    {
     "name": "stdout",
     "output_type": "stream",
     "text": [
      "Index(['ghi', 'ghi_std', 'ghi_min', 'ghi_max', 'dni', 'dni_std', 'dni_min',\n",
      "       'dni_max', 'dhi', 'dhi_std', 'dhi_min', 'dhi_max', 'lwd', 'lwd_std',\n",
      "       'lwd_min', 'lwd_max', 'temp_air', 'relative_humidity', 'pressure'],\n",
      "      dtype='object')\n"
     ]
    }
   ],
   "source": [
    "start = datetime(2020, 8, 10, 0, 0)\n",
    "end = datetime(2020, 8, 10, 23, 59)\n",
    "username=\"bsrnftp\"\n",
    "password=\"bsrn1\"\n",
    "\n",
    "france, metadata=pvlib.iotools.get_bsrn(\"pal\", start, end, username, password, logical_records=('0100',), save_path=\"/Users/rijass/Desktop/FPS/special_days/France/\")\n",
    "print(france.columns)\n",
    "\n",
    "import pandas as pd\n",
    "\n",
    "# Assuming you already have the 'france' DataFrame with the required data\n",
    "\n",
    "# Specify the start and end dates\n",
    "start_date = '2020-08-10 00:00:00+00:00'\n",
    "end_date = '2020-08-10 23:59:59+00:00'\n",
    "\n",
    "# Filter the 'france' DataFrame based on the date range\n",
    "france_spcl_day9 = france[(france.index >= start_date) & (france.index <= end_date)].copy()\n",
    "\n",
    "# Save the filtered DataFrame to a new file\n",
    "france_spcl_day9.to_csv('france_spcl_day9.csv')\n",
    "\n",
    "\n",
    "#france_day1=pd.DataFrame()  #created a panda file to store it"
   ],
   "metadata": {
    "collapsed": false,
    "ExecuteTime": {
     "end_time": "2023-05-20T21:29:35.899553Z",
     "start_time": "2023-05-20T21:29:33.960055Z"
    }
   }
  },
  {
   "cell_type": "markdown",
   "source": [
    "Day 10 2020 09 21"
   ],
   "metadata": {
    "collapsed": false
   }
  },
  {
   "cell_type": "code",
   "execution_count": 18,
   "outputs": [
    {
     "name": "stdout",
     "output_type": "stream",
     "text": [
      "Index(['ghi', 'ghi_std', 'ghi_min', 'ghi_max', 'dni', 'dni_std', 'dni_min',\n",
      "       'dni_max', 'dhi', 'dhi_std', 'dhi_min', 'dhi_max', 'lwd', 'lwd_std',\n",
      "       'lwd_min', 'lwd_max', 'temp_air', 'relative_humidity', 'pressure'],\n",
      "      dtype='object')\n"
     ]
    }
   ],
   "source": [
    "start = datetime(2020, 9, 21, 0, 0)\n",
    "end = datetime(2020, 9, 21, 23, 59)\n",
    "username=\"bsrnftp\"\n",
    "password=\"bsrn1\"\n",
    "\n",
    "france, metadata=pvlib.iotools.get_bsrn(\"pal\", start, end, username, password, logical_records=('0100',), save_path=\"/Users/rijass/Desktop/FPS/special_days/France/\")\n",
    "print(france.columns)\n",
    "\n",
    "import pandas as pd\n",
    "\n",
    "# Assuming you already have the 'france' DataFrame with the required data\n",
    "\n",
    "# Specify the start and end dates\n",
    "start_date = '2020-09-21 00:00:00+00:00'\n",
    "end_date = '2020-09-21 23:59:59+00:00'\n",
    "\n",
    "# Filter the 'france' DataFrame based on the date range\n",
    "france_spcl_day10 = france[(france.index >= start_date) & (france.index <= end_date)].copy()\n",
    "\n",
    "# Save the filtered DataFrame to a new file\n",
    "france_spcl_day10.to_csv('france_spcl_day10.csv')\n",
    "\n",
    "\n",
    "#france_day1=pd.DataFrame()  #created a panda file to store it"
   ],
   "metadata": {
    "collapsed": false,
    "ExecuteTime": {
     "end_time": "2023-05-20T21:38:19.360635Z",
     "start_time": "2023-05-20T21:38:17.496758Z"
    }
   }
  },
  {
   "cell_type": "markdown",
   "source": [
    "Day 11 2020 09 24"
   ],
   "metadata": {
    "collapsed": false
   }
  },
  {
   "cell_type": "code",
   "execution_count": 19,
   "outputs": [
    {
     "name": "stdout",
     "output_type": "stream",
     "text": [
      "Index(['ghi', 'ghi_std', 'ghi_min', 'ghi_max', 'dni', 'dni_std', 'dni_min',\n",
      "       'dni_max', 'dhi', 'dhi_std', 'dhi_min', 'dhi_max', 'lwd', 'lwd_std',\n",
      "       'lwd_min', 'lwd_max', 'temp_air', 'relative_humidity', 'pressure'],\n",
      "      dtype='object')\n"
     ]
    }
   ],
   "source": [
    "start = datetime(2020, 9, 24, 0, 0)\n",
    "end = datetime(2020, 9, 24, 23, 59)\n",
    "username=\"bsrnftp\"\n",
    "password=\"bsrn1\"\n",
    "\n",
    "france, metadata=pvlib.iotools.get_bsrn(\"pal\", start, end, username, password, logical_records=('0100',), save_path=\"/Users/rijass/Desktop/FPS/special_days/France/\")\n",
    "print(france.columns)\n",
    "\n",
    "import pandas as pd\n",
    "\n",
    "# Assuming you already have the 'france' DataFrame with the required data\n",
    "\n",
    "# Specify the start and end dates\n",
    "start_date = '2020-09-24 00:00:00+00:00'\n",
    "end_date = '2020-09-24 23:59:59+00:00'\n",
    "\n",
    "# Filter the 'france' DataFrame based on the date range\n",
    "france_spcl_day11 = france[(france.index >= start_date) & (france.index <= end_date)].copy()\n",
    "\n",
    "# Save the filtered DataFrame to a new file\n",
    "france_spcl_day11.to_csv('france_spcl_day11.csv')\n",
    "\n",
    "\n",
    "#france_day1=pd.DataFrame()  #created a panda file to store it"
   ],
   "metadata": {
    "collapsed": false,
    "ExecuteTime": {
     "end_time": "2023-05-20T21:39:51.501374Z",
     "start_time": "2023-05-20T21:39:49.681337Z"
    }
   }
  },
  {
   "cell_type": "markdown",
   "source": [
    "Day 12 2020 10 03"
   ],
   "metadata": {
    "collapsed": false
   }
  },
  {
   "cell_type": "code",
   "execution_count": 20,
   "outputs": [
    {
     "name": "stdout",
     "output_type": "stream",
     "text": [
      "Index(['ghi', 'ghi_std', 'ghi_min', 'ghi_max', 'dni', 'dni_std', 'dni_min',\n",
      "       'dni_max', 'dhi', 'dhi_std', 'dhi_min', 'dhi_max', 'lwd', 'lwd_std',\n",
      "       'lwd_min', 'lwd_max', 'temp_air', 'relative_humidity', 'pressure'],\n",
      "      dtype='object')\n"
     ]
    }
   ],
   "source": [
    "start = datetime(2020, 10, 3, 0, 0)\n",
    "end = datetime(2020, 10, 3, 23, 59)\n",
    "username=\"bsrnftp\"\n",
    "password=\"bsrn1\"\n",
    "\n",
    "france, metadata=pvlib.iotools.get_bsrn(\"pal\", start, end, username, password, logical_records=('0100',), save_path=\"/Users/rijass/Desktop/FPS/special_days/France/\")\n",
    "print(france.columns)\n",
    "\n",
    "import pandas as pd\n",
    "\n",
    "# Assuming you already have the 'france' DataFrame with the required data\n",
    "\n",
    "# Specify the start and end dates\n",
    "start_date = '2020-10-03 00:00:00+00:00'\n",
    "end_date = '2020-10-03 23:59:59+00:00'\n",
    "\n",
    "# Filter the 'france' DataFrame based on the date range\n",
    "france_spcl_day12 = france[(france.index >= start_date) & (france.index <= end_date)].copy()\n",
    "\n",
    "# Save the filtered DataFrame to a new file\n",
    "france_spcl_day12.to_csv('france_spcl_day12.csv')\n",
    "\n",
    "\n",
    "#france_day1=pd.DataFrame()  #created a panda file to store it"
   ],
   "metadata": {
    "collapsed": false,
    "ExecuteTime": {
     "end_time": "2023-05-20T21:40:54.913788Z",
     "start_time": "2023-05-20T21:40:53.131459Z"
    }
   }
  }
 ],
 "metadata": {
  "kernelspec": {
   "display_name": "Python 3",
   "language": "python",
   "name": "python3"
  },
  "language_info": {
   "codemirror_mode": {
    "name": "ipython",
    "version": 2
   },
   "file_extension": ".py",
   "mimetype": "text/x-python",
   "name": "python",
   "nbconvert_exporter": "python",
   "pygments_lexer": "ipython2",
   "version": "2.7.6"
  }
 },
 "nbformat": 4,
 "nbformat_minor": 0
}
