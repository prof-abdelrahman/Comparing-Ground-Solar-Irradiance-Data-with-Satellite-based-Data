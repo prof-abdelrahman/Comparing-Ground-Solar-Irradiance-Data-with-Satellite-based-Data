{
 "cells": [
  {
   "cell_type": "code",
   "execution_count": 2,
   "outputs": [],
   "source": [
    "from datetime import datetime\n",
    "\n",
    "import pandas as pd\n",
    "import pvlib"
   ],
   "metadata": {
    "collapsed": false,
    "ExecuteTime": {
     "end_time": "2023-05-20T20:35:32.305321700Z",
     "start_time": "2023-05-20T20:35:27.262489800Z"
    }
   }
  },
  {
   "cell_type": "markdown",
   "source": [
    "Code\n",
    "\n",
    "# datetime(year, month, day, hour, minute, second, microsecond)\n",
    "start = datetime(2020, 6, 21, 0, 0)\n",
    "end = datetime(2020, 12, 21, 23, 59)\n",
    "username=\"bsrnftp\"\n",
    "password=\"bsrn1\"\n",
    "\n",
    "france, metadata=pvlib.iotools.get_bsrn(\"pal\", start, end, username, password, logical_records=('0100',), save_path=\"/Users/rijass/Desktop/special_days/France/\")\n",
    "print(france.columns)"
   ],
   "metadata": {
    "collapsed": false
   }
  },
  {
   "cell_type": "markdown",
   "source": [
    "DAY 1 2020 01 27"
   ],
   "metadata": {
    "collapsed": false
   }
  },
  {
   "cell_type": "code",
   "execution_count": 29,
   "outputs": [
    {
     "name": "stdout",
     "output_type": "stream",
     "text": [
      "44640\n",
      "['2020-01-27T00:01:00.000000000']\n",
      "[0.]\n"
     ]
    },
    {
     "ename": "ValueError",
     "evalue": "Length of values (38880) does not match length of index (1)",
     "output_type": "error",
     "traceback": [
      "\u001B[1;31m---------------------------------------------------------------------------\u001B[0m",
      "\u001B[1;31mValueError\u001B[0m                                Traceback (most recent call last)",
      "Cell \u001B[1;32mIn[29], line 29\u001B[0m\n\u001B[0;32m     27\u001B[0m \u001B[38;5;66;03m#print(idx)\u001B[39;00m\n\u001B[0;32m     28\u001B[0m day1_france \u001B[38;5;241m=\u001B[39m pd\u001B[38;5;241m.\u001B[39mDataFrame(index\u001B[38;5;241m=\u001B[39midx)\n\u001B[1;32m---> 29\u001B[0m \u001B[43mday1_france\u001B[49m\u001B[43m[\u001B[49m\u001B[38;5;124;43m'\u001B[39;49m\u001B[38;5;124;43mdhi\u001B[39;49m\u001B[38;5;124;43m'\u001B[39;49m\u001B[43m]\u001B[49m \u001B[38;5;241m=\u001B[39m dhi\n\u001B[0;32m     30\u001B[0m \u001B[38;5;28mprint\u001B[39m(day1_france)\n\u001B[0;32m     32\u001B[0m \u001B[38;5;124;03m\"\"\"for i in range(44):\u001B[39;00m\n\u001B[0;32m     33\u001B[0m \u001B[38;5;124;03m    j+=1\u001B[39;00m\n\u001B[0;32m     34\u001B[0m \u001B[38;5;124;03mprint(j)\"\"\"\u001B[39;00m\n",
      "File \u001B[1;32mC:\\Python310\\lib\\site-packages\\pandas\\core\\frame.py:3978\u001B[0m, in \u001B[0;36mDataFrame.__setitem__\u001B[1;34m(self, key, value)\u001B[0m\n\u001B[0;32m   3975\u001B[0m     \u001B[38;5;28mself\u001B[39m\u001B[38;5;241m.\u001B[39m_setitem_array([key], value)\n\u001B[0;32m   3976\u001B[0m \u001B[38;5;28;01melse\u001B[39;00m:\n\u001B[0;32m   3977\u001B[0m     \u001B[38;5;66;03m# set column\u001B[39;00m\n\u001B[1;32m-> 3978\u001B[0m     \u001B[38;5;28;43mself\u001B[39;49m\u001B[38;5;241;43m.\u001B[39;49m\u001B[43m_set_item\u001B[49m\u001B[43m(\u001B[49m\u001B[43mkey\u001B[49m\u001B[43m,\u001B[49m\u001B[43m \u001B[49m\u001B[43mvalue\u001B[49m\u001B[43m)\u001B[49m\n",
      "File \u001B[1;32mC:\\Python310\\lib\\site-packages\\pandas\\core\\frame.py:4172\u001B[0m, in \u001B[0;36mDataFrame._set_item\u001B[1;34m(self, key, value)\u001B[0m\n\u001B[0;32m   4162\u001B[0m \u001B[38;5;28;01mdef\u001B[39;00m \u001B[38;5;21m_set_item\u001B[39m(\u001B[38;5;28mself\u001B[39m, key, value) \u001B[38;5;241m-\u001B[39m\u001B[38;5;241m>\u001B[39m \u001B[38;5;28;01mNone\u001B[39;00m:\n\u001B[0;32m   4163\u001B[0m     \u001B[38;5;124;03m\"\"\"\u001B[39;00m\n\u001B[0;32m   4164\u001B[0m \u001B[38;5;124;03m    Add series to DataFrame in specified column.\u001B[39;00m\n\u001B[0;32m   4165\u001B[0m \n\u001B[1;32m   (...)\u001B[0m\n\u001B[0;32m   4170\u001B[0m \u001B[38;5;124;03m    ensure homogeneity.\u001B[39;00m\n\u001B[0;32m   4171\u001B[0m \u001B[38;5;124;03m    \"\"\"\u001B[39;00m\n\u001B[1;32m-> 4172\u001B[0m     value \u001B[38;5;241m=\u001B[39m \u001B[38;5;28;43mself\u001B[39;49m\u001B[38;5;241;43m.\u001B[39;49m\u001B[43m_sanitize_column\u001B[49m\u001B[43m(\u001B[49m\u001B[43mvalue\u001B[49m\u001B[43m)\u001B[49m\n\u001B[0;32m   4174\u001B[0m     \u001B[38;5;28;01mif\u001B[39;00m (\n\u001B[0;32m   4175\u001B[0m         key \u001B[38;5;129;01min\u001B[39;00m \u001B[38;5;28mself\u001B[39m\u001B[38;5;241m.\u001B[39mcolumns\n\u001B[0;32m   4176\u001B[0m         \u001B[38;5;129;01mand\u001B[39;00m value\u001B[38;5;241m.\u001B[39mndim \u001B[38;5;241m==\u001B[39m \u001B[38;5;241m1\u001B[39m\n\u001B[0;32m   4177\u001B[0m         \u001B[38;5;129;01mand\u001B[39;00m \u001B[38;5;129;01mnot\u001B[39;00m is_extension_array_dtype(value)\n\u001B[0;32m   4178\u001B[0m     ):\n\u001B[0;32m   4179\u001B[0m         \u001B[38;5;66;03m# broadcast across multiple columns if necessary\u001B[39;00m\n\u001B[0;32m   4180\u001B[0m         \u001B[38;5;28;01mif\u001B[39;00m \u001B[38;5;129;01mnot\u001B[39;00m \u001B[38;5;28mself\u001B[39m\u001B[38;5;241m.\u001B[39mcolumns\u001B[38;5;241m.\u001B[39mis_unique \u001B[38;5;129;01mor\u001B[39;00m \u001B[38;5;28misinstance\u001B[39m(\u001B[38;5;28mself\u001B[39m\u001B[38;5;241m.\u001B[39mcolumns, MultiIndex):\n",
      "File \u001B[1;32mC:\\Python310\\lib\\site-packages\\pandas\\core\\frame.py:4912\u001B[0m, in \u001B[0;36mDataFrame._sanitize_column\u001B[1;34m(self, value)\u001B[0m\n\u001B[0;32m   4909\u001B[0m     \u001B[38;5;28;01mreturn\u001B[39;00m _reindex_for_setitem(Series(value), \u001B[38;5;28mself\u001B[39m\u001B[38;5;241m.\u001B[39mindex)\n\u001B[0;32m   4911\u001B[0m \u001B[38;5;28;01mif\u001B[39;00m is_list_like(value):\n\u001B[1;32m-> 4912\u001B[0m     \u001B[43mcom\u001B[49m\u001B[38;5;241;43m.\u001B[39;49m\u001B[43mrequire_length_match\u001B[49m\u001B[43m(\u001B[49m\u001B[43mvalue\u001B[49m\u001B[43m,\u001B[49m\u001B[43m \u001B[49m\u001B[38;5;28;43mself\u001B[39;49m\u001B[38;5;241;43m.\u001B[39;49m\u001B[43mindex\u001B[49m\u001B[43m)\u001B[49m\n\u001B[0;32m   4913\u001B[0m \u001B[38;5;28;01mreturn\u001B[39;00m sanitize_array(value, \u001B[38;5;28mself\u001B[39m\u001B[38;5;241m.\u001B[39mindex, copy\u001B[38;5;241m=\u001B[39m\u001B[38;5;28;01mTrue\u001B[39;00m, allow_2d\u001B[38;5;241m=\u001B[39m\u001B[38;5;28;01mTrue\u001B[39;00m)\n",
      "File \u001B[1;32mC:\\Python310\\lib\\site-packages\\pandas\\core\\common.py:561\u001B[0m, in \u001B[0;36mrequire_length_match\u001B[1;34m(data, index)\u001B[0m\n\u001B[0;32m    557\u001B[0m \u001B[38;5;124;03m\"\"\"\u001B[39;00m\n\u001B[0;32m    558\u001B[0m \u001B[38;5;124;03mCheck the length of data matches the length of the index.\u001B[39;00m\n\u001B[0;32m    559\u001B[0m \u001B[38;5;124;03m\"\"\"\u001B[39;00m\n\u001B[0;32m    560\u001B[0m \u001B[38;5;28;01mif\u001B[39;00m \u001B[38;5;28mlen\u001B[39m(data) \u001B[38;5;241m!=\u001B[39m \u001B[38;5;28mlen\u001B[39m(index):\n\u001B[1;32m--> 561\u001B[0m     \u001B[38;5;28;01mraise\u001B[39;00m \u001B[38;5;167;01mValueError\u001B[39;00m(\n\u001B[0;32m    562\u001B[0m         \u001B[38;5;124m\"\u001B[39m\u001B[38;5;124mLength of values \u001B[39m\u001B[38;5;124m\"\u001B[39m\n\u001B[0;32m    563\u001B[0m         \u001B[38;5;124mf\u001B[39m\u001B[38;5;124m\"\u001B[39m\u001B[38;5;124m(\u001B[39m\u001B[38;5;132;01m{\u001B[39;00m\u001B[38;5;28mlen\u001B[39m(data)\u001B[38;5;132;01m}\u001B[39;00m\u001B[38;5;124m) \u001B[39m\u001B[38;5;124m\"\u001B[39m\n\u001B[0;32m    564\u001B[0m         \u001B[38;5;124m\"\u001B[39m\u001B[38;5;124mdoes not match length of index \u001B[39m\u001B[38;5;124m\"\u001B[39m\n\u001B[0;32m    565\u001B[0m         \u001B[38;5;124mf\u001B[39m\u001B[38;5;124m\"\u001B[39m\u001B[38;5;124m(\u001B[39m\u001B[38;5;132;01m{\u001B[39;00m\u001B[38;5;28mlen\u001B[39m(index)\u001B[38;5;132;01m}\u001B[39;00m\u001B[38;5;124m)\u001B[39m\u001B[38;5;124m\"\u001B[39m\n\u001B[0;32m    566\u001B[0m     )\n",
      "\u001B[1;31mValueError\u001B[0m: Length of values (38880) does not match length of index (1)"
     ]
    }
   ],
   "source": [
    "\n",
    "\n",
    "start = datetime(2020, 1, 27, 0, 0)\n",
    "end = datetime(2020, 1, 27, 23, 59)\n",
    "username=\"bsrnftp\"\n",
    "password=\"bsrn1\"\n",
    "\n",
    "france, metadata=pvlib.iotools.get_bsrn(\"pal\", datetime(2020, 1, 27, 0, 0), datetime(2020, 1, 27, 23, 59), username, password, logical_records=('0100',), save_path=\"D:\\جامعة اولدنبورج\\التيرم الثالث\\Future Power Supply\\DS\\BSRN\\FRANCE\")\n",
    "#print(france.columns)\n",
    "print(len(france))\n",
    "print(france.iloc[[37441]].index.values)\n",
    "print(france.iloc[[9999]]['dhi'].values)\n",
    "\n",
    "\n",
    "day1_france= pd.DataFrame()\n",
    "\"\"\"for check in france['dhi']:\n",
    "    if check.index == '2020-01-27T00:00:00+00:0':\n",
    "        day1_france.append(check)\n",
    "    if check.index == '2020-01-27 23:59:00+00:0':\n",
    "        break\"\"\"\n",
    "idx = []\n",
    "dhi = []\n",
    "j = 0\n",
    "i = 37440\n",
    "for i in range(38880):\n",
    "    idx.append(france.iloc[[i]].index.values)\n",
    "    dhi.append(france.iloc[[i]]['dhi'].values)\n",
    "\n",
    "#print(idx)\n",
    "day1_france = pd.DataFrame(index=idx)\n",
    "day1_france['dhi'] = dhi\n",
    "print(day1_france)\n",
    "\n",
    "\"\"\"for i in range(44):\n",
    "    j+=1\n",
    "print(j)\"\"\""
   ],
   "metadata": {
    "collapsed": false,
    "ExecuteTime": {
     "end_time": "2023-05-20T21:06:17.997435700Z",
     "start_time": "2023-05-20T21:05:59.673407100Z"
    }
   }
  },
  {
   "cell_type": "markdown",
   "source": [
    "DAY 2 2020 02 05"
   ],
   "metadata": {
    "collapsed": false
   }
  },
  {
   "cell_type": "code",
   "execution_count": 9,
   "outputs": [
    {
     "name": "stdout",
     "output_type": "stream",
     "text": [
      "Index(['ghi', 'ghi_std', 'ghi_min', 'ghi_max', 'dni', 'dni_std', 'dni_min',\n",
      "       'dni_max', 'dhi', 'dhi_std', 'dhi_min', 'dhi_max', 'lwd', 'lwd_std',\n",
      "       'lwd_min', 'lwd_max', 'temp_air', 'relative_humidity', 'pressure'],\n",
      "      dtype='object')\n"
     ]
    }
   ],
   "source": [
    "start = datetime(2020, 2, 5, 0, 0)\n",
    "end = datetime(2020, 2, 5, 23, 59)\n",
    "username=\"bsrnftp\"\n",
    "password=\"bsrn1\"\n",
    "\n",
    "france, metadata=pvlib.iotools.get_bsrn(\"pal\", start, end, username, password, logical_records=('0100',), save_path=\"/Users/rijass/Desktop/FPS/special_days/France/\")\n",
    "print(france.columns)"
   ],
   "metadata": {
    "collapsed": false,
    "ExecuteTime": {
     "end_time": "2023-05-18T16:56:28.702449Z",
     "start_time": "2023-05-18T16:56:24.921196Z"
    }
   }
  },
  {
   "cell_type": "markdown",
   "source": [
    "Day 3 2020 02 18"
   ],
   "metadata": {
    "collapsed": false
   }
  },
  {
   "cell_type": "code",
   "execution_count": 11,
   "outputs": [
    {
     "name": "stdout",
     "output_type": "stream",
     "text": [
      "Index(['ghi', 'ghi_std', 'ghi_min', 'ghi_max', 'dni', 'dni_std', 'dni_min',\n",
      "       'dni_max', 'dhi', 'dhi_std', 'dhi_min', 'dhi_max', 'lwd', 'lwd_std',\n",
      "       'lwd_min', 'lwd_max', 'temp_air', 'relative_humidity', 'pressure'],\n",
      "      dtype='object')\n"
     ]
    }
   ],
   "source": [
    "start = datetime(2020, 2, 18, 0, 0)\n",
    "end = datetime(2020, 2, 18, 23, 59)\n",
    "username=\"bsrnftp\"\n",
    "password=\"bsrn1\"\n",
    "\n",
    "france, metadata=pvlib.iotools.get_bsrn(\"pal\", start, end, username, password, logical_records=('0100',), save_path=\"/Users/rijass/Desktop/FPS/special_days/France/\")\n",
    "print(france.columns)"
   ],
   "metadata": {
    "collapsed": false,
    "ExecuteTime": {
     "end_time": "2023-05-18T16:57:43.969316Z",
     "start_time": "2023-05-18T16:57:41.077808Z"
    }
   }
  },
  {
   "cell_type": "markdown",
   "source": [
    "Day 4 2020 04 01"
   ],
   "metadata": {
    "collapsed": false
   }
  },
  {
   "cell_type": "code",
   "execution_count": 13,
   "outputs": [
    {
     "name": "stdout",
     "output_type": "stream",
     "text": [
      "Index(['ghi', 'ghi_std', 'ghi_min', 'ghi_max', 'dni', 'dni_std', 'dni_min',\n",
      "       'dni_max', 'dhi', 'dhi_std', 'dhi_min', 'dhi_max', 'lwd', 'lwd_std',\n",
      "       'lwd_min', 'lwd_max', 'temp_air', 'relative_humidity', 'pressure'],\n",
      "      dtype='object')\n"
     ]
    }
   ],
   "source": [
    "start = datetime(2020, 4, 1, 0, 0)\n",
    "end = datetime(2020, 4, 1, 23, 59)\n",
    "username=\"bsrnftp\"\n",
    "password=\"bsrn1\"\n",
    "\n",
    "france, metadata=pvlib.iotools.get_bsrn(\"pal\", start, end, username, password, logical_records=('0100',), save_path=\"/Users/rijass/Desktop/FPS/special_days/France/\")\n",
    "print(france.columns)"
   ],
   "metadata": {
    "collapsed": false,
    "ExecuteTime": {
     "end_time": "2023-05-18T16:58:52.554415Z",
     "start_time": "2023-05-18T16:58:49.244147Z"
    }
   }
  },
  {
   "cell_type": "markdown",
   "source": [
    "Day 5 2020 04 13"
   ],
   "metadata": {
    "collapsed": false
   }
  },
  {
   "cell_type": "code",
   "execution_count": 16,
   "outputs": [
    {
     "name": "stdout",
     "output_type": "stream",
     "text": [
      "Index(['ghi', 'ghi_std', 'ghi_min', 'ghi_max', 'dni', 'dni_std', 'dni_min',\n",
      "       'dni_max', 'dhi', 'dhi_std', 'dhi_min', 'dhi_max', 'lwd', 'lwd_std',\n",
      "       'lwd_min', 'lwd_max', 'temp_air', 'relative_humidity', 'pressure'],\n",
      "      dtype='object')\n"
     ]
    }
   ],
   "source": [
    "start = datetime(2020, 4, 13, 0, 0)\n",
    "end = datetime(2020, 4, 13, 23, 59)\n",
    "username=\"bsrnftp\"\n",
    "password=\"bsrn1\"\n",
    "\n",
    "france, metadata=pvlib.iotools.get_bsrn(\"pal\", start, end, username, password, logical_records=('0100',), save_path=\"/Users/rijass/Desktop/FPS/special_days/France/\")\n",
    "print(france.columns)"
   ],
   "metadata": {
    "collapsed": false,
    "ExecuteTime": {
     "end_time": "2023-05-18T17:02:27.490078Z",
     "start_time": "2023-05-18T17:02:24.609946Z"
    }
   }
  },
  {
   "cell_type": "markdown",
   "source": [
    "Day 6 2020 05 25"
   ],
   "metadata": {
    "collapsed": false
   }
  },
  {
   "cell_type": "code",
   "execution_count": 18,
   "outputs": [
    {
     "name": "stdout",
     "output_type": "stream",
     "text": [
      "Index(['ghi', 'ghi_std', 'ghi_min', 'ghi_max', 'dni', 'dni_std', 'dni_min',\n",
      "       'dni_max', 'dhi', 'dhi_std', 'dhi_min', 'dhi_max', 'lwd', 'lwd_std',\n",
      "       'lwd_min', 'lwd_max', 'temp_air', 'relative_humidity', 'pressure'],\n",
      "      dtype='object')\n"
     ]
    }
   ],
   "source": [
    "start = datetime(2020, 5, 25, 0, 0)\n",
    "end = datetime(2020, 5, 25, 23, 59)\n",
    "username=\"bsrnftp\"\n",
    "password=\"bsrn1\"\n",
    "\n",
    "france, metadata=pvlib.iotools.get_bsrn(\"pal\", start, end, username, password, logical_records=('0100',), save_path=\"/Users/rijass/Desktop/FPS/special_days/France/\")\n",
    "print(france.columns)"
   ],
   "metadata": {
    "collapsed": false,
    "ExecuteTime": {
     "end_time": "2023-05-18T17:03:26.139274Z",
     "start_time": "2023-05-18T17:03:22.769214Z"
    }
   }
  },
  {
   "cell_type": "markdown",
   "source": [
    "Day 7 2020 07 09"
   ],
   "metadata": {
    "collapsed": false
   }
  },
  {
   "cell_type": "code",
   "execution_count": 20,
   "outputs": [
    {
     "name": "stdout",
     "output_type": "stream",
     "text": [
      "Index(['ghi', 'ghi_std', 'ghi_min', 'ghi_max', 'dni', 'dni_std', 'dni_min',\n",
      "       'dni_max', 'dhi', 'dhi_std', 'dhi_min', 'dhi_max', 'lwd', 'lwd_std',\n",
      "       'lwd_min', 'lwd_max', 'temp_air', 'relative_humidity', 'pressure'],\n",
      "      dtype='object')\n"
     ]
    }
   ],
   "source": [
    "start = datetime(2020, 7, 9, 0, 0)\n",
    "end = datetime(2020, 7, 9, 23, 59)\n",
    "username=\"bsrnftp\"\n",
    "password=\"bsrn1\"\n",
    "\n",
    "france, metadata=pvlib.iotools.get_bsrn(\"pal\", start, end, username, password, logical_records=('0100',), save_path=\"/Users/rijass/Desktop/FPS/special_days/France/\")\n",
    "print(france.columns)"
   ],
   "metadata": {
    "collapsed": false,
    "ExecuteTime": {
     "end_time": "2023-05-18T17:04:14.296225Z",
     "start_time": "2023-05-18T17:04:11.055714Z"
    }
   }
  },
  {
   "cell_type": "markdown",
   "source": [
    "Day 8 2020 07 20"
   ],
   "metadata": {
    "collapsed": false
   }
  },
  {
   "cell_type": "code",
   "execution_count": 22,
   "outputs": [
    {
     "name": "stdout",
     "output_type": "stream",
     "text": [
      "Index(['ghi', 'ghi_std', 'ghi_min', 'ghi_max', 'dni', 'dni_std', 'dni_min',\n",
      "       'dni_max', 'dhi', 'dhi_std', 'dhi_min', 'dhi_max', 'lwd', 'lwd_std',\n",
      "       'lwd_min', 'lwd_max', 'temp_air', 'relative_humidity', 'pressure'],\n",
      "      dtype='object')\n"
     ]
    }
   ],
   "source": [
    "start = datetime(2020, 7, 20, 0, 0)\n",
    "end = datetime(2020, 7, 20, 23, 59)\n",
    "username=\"bsrnftp\"\n",
    "password=\"bsrn1\"\n",
    "\n",
    "france, metadata=pvlib.iotools.get_bsrn(\"pal\", start, end, username, password, logical_records=('0100',), save_path=\"/Users/rijass/Desktop/FPS/special_days/France/\")\n",
    "print(france.columns)"
   ],
   "metadata": {
    "collapsed": false,
    "ExecuteTime": {
     "end_time": "2023-05-18T17:05:04.542153Z",
     "start_time": "2023-05-18T17:05:01.972104Z"
    }
   }
  },
  {
   "cell_type": "markdown",
   "source": [
    "Day 9 2020 08 10"
   ],
   "metadata": {
    "collapsed": false
   }
  },
  {
   "cell_type": "code",
   "execution_count": 25,
   "outputs": [
    {
     "name": "stdout",
     "output_type": "stream",
     "text": [
      "Index(['ghi', 'ghi_std', 'ghi_min', 'ghi_max', 'dni', 'dni_std', 'dni_min',\n",
      "       'dni_max', 'dhi', 'dhi_std', 'dhi_min', 'dhi_max', 'lwd', 'lwd_std',\n",
      "       'lwd_min', 'lwd_max', 'temp_air', 'relative_humidity', 'pressure'],\n",
      "      dtype='object')\n",
      "Index(['ghi', 'ghi_std', 'ghi_min', 'ghi_max', 'dni', 'dni_std', 'dni_min',\n",
      "       'dni_max', 'dhi', 'dhi_std', 'dhi_min', 'dhi_max', 'lwd', 'lwd_std',\n",
      "       'lwd_min', 'lwd_max', 'temp_air', 'relative_humidity', 'pressure'],\n",
      "      dtype='object')\n"
     ]
    }
   ],
   "source": [
    "start = datetime(2020, 8, 10, 0, 0)\n",
    "end = datetime(2020, 8, 10, 23, 59)\n",
    "username=\"bsrnftp\"\n",
    "password=\"bsrn1\"\n",
    "\n",
    "france, metadata=pvlib.iotools.get_bsrn(\"pal\", start, end, username, password, logical_records=('0100',), save_path=\"/Users/rijass/Desktop/FPS/special_days/France/\")\n",
    "print(france.columns)"
   ],
   "metadata": {
    "collapsed": false
   }
  },
  {
   "cell_type": "markdown",
   "source": [
    "Day 10 2020 09 21"
   ],
   "metadata": {
    "collapsed": false
   }
  },
  {
   "cell_type": "code",
   "execution_count": 28,
   "outputs": [
    {
     "name": "stdout",
     "output_type": "stream",
     "text": [
      "Index(['ghi', 'ghi_std', 'ghi_min', 'ghi_max', 'dni', 'dni_std', 'dni_min',\n",
      "       'dni_max', 'dhi', 'dhi_std', 'dhi_min', 'dhi_max', 'lwd', 'lwd_std',\n",
      "       'lwd_min', 'lwd_max', 'temp_air', 'relative_humidity', 'pressure'],\n",
      "      dtype='object')\n"
     ]
    }
   ],
   "source": [
    "start = datetime(2020, 10, 21, 0, 0)\n",
    "end = datetime(2020, 10, 21, 23, 59)\n",
    "username=\"bsrnftp\"\n",
    "password=\"bsrn1\"\n",
    "\n",
    "france, metadata=pvlib.iotools.get_bsrn(\"pal\", start, end, username, password, logical_records=('0100',), save_path=\"/Users/rijass/Desktop/FPS/special_days/France/\")\n",
    "print(france.columns)"
   ],
   "metadata": {
    "collapsed": false,
    "ExecuteTime": {
     "end_time": "2023-05-18T17:07:40.083859Z",
     "start_time": "2023-05-18T17:07:36.908493Z"
    }
   }
  },
  {
   "cell_type": "markdown",
   "source": [
    "Day 11 2020 09 24"
   ],
   "metadata": {
    "collapsed": false
   }
  },
  {
   "cell_type": "code",
   "execution_count": 30,
   "outputs": [
    {
     "name": "stdout",
     "output_type": "stream",
     "text": [
      "Index(['ghi', 'ghi_std', 'ghi_min', 'ghi_max', 'dni', 'dni_std', 'dni_min',\n",
      "       'dni_max', 'dhi', 'dhi_std', 'dhi_min', 'dhi_max', 'lwd', 'lwd_std',\n",
      "       'lwd_min', 'lwd_max', 'temp_air', 'relative_humidity', 'pressure'],\n",
      "      dtype='object')\n",
      "Index(['ghi', 'ghi_std', 'ghi_min', 'ghi_max', 'dni', 'dni_std', 'dni_min',\n",
      "       'dni_max', 'dhi', 'dhi_std', 'dhi_min', 'dhi_max', 'lwd', 'lwd_std',\n",
      "       'lwd_min', 'lwd_max', 'temp_air', 'relative_humidity', 'pressure'],\n",
      "      dtype='object')\n"
     ]
    }
   ],
   "source": [
    "start = datetime(2020, 9, 24, 0, 0)\n",
    "end = datetime(2020, 9, 24, 23, 59)\n",
    "username=\"bsrnftp\"\n",
    "password=\"bsrn1\"\n",
    "\n",
    "france, metadata=pvlib.iotools.get_bsrn(\"pal\", start, end, username, password, logical_records=('0100',), save_path=\"/Users/rijass/Desktop/FPS/special_days/France/\")\n",
    "print(france.columns)"
   ],
   "metadata": {
    "collapsed": false
   }
  },
  {
   "cell_type": "markdown",
   "source": [
    "Day 12 2020 10 03"
   ],
   "metadata": {
    "collapsed": false
   }
  },
  {
   "cell_type": "code",
   "execution_count": 31,
   "outputs": [
    {
     "name": "stdout",
     "output_type": "stream",
     "text": [
      "Index(['ghi', 'ghi_std', 'ghi_min', 'ghi_max', 'dni', 'dni_std', 'dni_min',\n",
      "       'dni_max', 'dhi', 'dhi_std', 'dhi_min', 'dhi_max', 'lwd', 'lwd_std',\n",
      "       'lwd_min', 'lwd_max', 'temp_air', 'relative_humidity', 'pressure'],\n",
      "      dtype='object')\n"
     ]
    }
   ],
   "source": [
    "start = datetime(2020, 10, 3, 0, 0)\n",
    "end = datetime(2020, 10, 3, 23, 59)\n",
    "username=\"bsrnftp\"\n",
    "password=\"bsrn1\"\n",
    "\n",
    "france, metadata=pvlib.iotools.get_bsrn(\"pal\", start, end, username, password, logical_records=('0100',), save_path=\"/Users/rijass/Desktop/FPS/special_days/France/\")\n",
    "print(france.columns)"
   ],
   "metadata": {
    "collapsed": false,
    "ExecuteTime": {
     "end_time": "2023-05-18T17:09:06.969336Z",
     "start_time": "2023-05-18T17:09:03.505083Z"
    }
   }
  }
 ],
 "metadata": {
  "kernelspec": {
   "display_name": "Python 3",
   "language": "python",
   "name": "python3"
  },
  "language_info": {
   "codemirror_mode": {
    "name": "ipython",
    "version": 2
   },
   "file_extension": ".py",
   "mimetype": "text/x-python",
   "name": "python",
   "nbconvert_exporter": "python",
   "pygments_lexer": "ipython2",
   "version": "2.7.6"
  }
 },
 "nbformat": 4,
 "nbformat_minor": 0
}
